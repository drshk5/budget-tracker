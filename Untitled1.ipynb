{
  "nbformat": 4,
  "nbformat_minor": 0,
  "metadata": {
    "colab": {
      "provenance": []
    },
    "kernelspec": {
      "name": "python3",
      "display_name": "Python 3"
    },
    "language_info": {
      "name": "python"
    }
  },
  "cells": [
    {
      "cell_type": "code",
      "execution_count": null,
      "metadata": {
        "colab": {
          "base_uri": "https://localhost:8080/"
        },
        "id": "JRLX1twS2cZH",
        "outputId": "95f736e9-3103-46e3-bd09-0cad2eeca469"
      },
      "outputs": [
        {
          "output_type": "stream",
          "name": "stdout",
          "text": [
            "Personal Budget Tracker\n"
          ]
        }
      ],
      "source": [
        "print(\"Personal Budget Tracker\")\n",
        "\n",
        "income = float(input(\"Enter your toatal monthly income: ₹\"))\n",
        "\n",
        "expenses = {}\n",
        "\n",
        "while True:\n",
        "    category = input(\"Enter expense category (type 'done' to finish): \")\n",
        "    if category.lower() == 'done':\n",
        "        break\n",
        "    amount = float(input(f\"Enter amount for {category}: ₹\"))\n",
        "    expenses[category] = expenses.get(category, 0) + amount\n",
        "\n",
        "total_expenses = sum(expenses.values())\n",
        "balance = income - total_expenses\n",
        "\n",
        "print(\"\\n Summary:\")\n",
        "print(f\"Total income: ₹(income)\")\n",
        "print(f\"Total spent: ₹(total_expenses)\")\n",
        "print(f\"Balance after expenses: ₹(balance)\")\n",
        "\n",
        "print(\"\\n Expense breakdown:\")\n",
        "for category, amount in expenses.items():\n",
        "    persent = amount / total_expenses * 100\n",
        "    print(f\" - {category}: ₹{amount} ({persent:.1f}%)\")\n",
        "\n",
        "max_category = max(expenses, key=expenses.get)\n",
        "print(f\"\\n Biggest Expenses: {max_category} - ₹{expenses[max_category]}\")"
      ]
    }
  ]
}